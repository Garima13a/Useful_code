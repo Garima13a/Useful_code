{
 "cells": [
  {
   "cell_type": "code",
   "execution_count": 2,
   "metadata": {},
   "outputs": [
    {
     "name": "stderr",
     "output_type": "stream",
     "text": [
      "t:   0%|          | 2/1083 [00:00<01:11, 15.17it/s, now=None]"
     ]
    },
    {
     "name": "stdout",
     "output_type": "stream",
     "text": [
      "Moviepy - Building video /home/garima/Desktop/UoL_Projects/Gaze_Tracking/Sticker_on_head/zoomed_vids/stable/rotated_helen.mp4.\n",
      "Moviepy - Writing video /home/garima/Desktop/UoL_Projects/Gaze_Tracking/Sticker_on_head/zoomed_vids/stable/rotated_helen.mp4\n",
      "\n"
     ]
    },
    {
     "name": "stderr",
     "output_type": "stream",
     "text": [
      "                                                                \r"
     ]
    },
    {
     "name": "stdout",
     "output_type": "stream",
     "text": [
      "Moviepy - Done !\n",
      "Moviepy - video ready /home/garima/Desktop/UoL_Projects/Gaze_Tracking/Sticker_on_head/zoomed_vids/stable/rotated_helen.mp4\n"
     ]
    }
   ],
   "source": [
    "from moviepy.editor import *\n",
    "  \n",
    "# loading video gfg \n",
    "clip = VideoFileClip(\"/home/garima/Desktop/UoL_Projects/Gaze_Tracking/Sticker_on_head/zoomed_vids/stable/helen.mp4\") \n",
    "    \n",
    "# rotating clip by 180 degree \n",
    "clip = clip.rotate(270) \n",
    "  \n",
    "# showing clip \n",
    "  \n",
    "# saving the clip \n",
    "clip.write_videofile(\"/home/garima/Desktop/UoL_Projects/Gaze_Tracking/Sticker_on_head/zoomed_vids/stable/rotated_helen.mp4\") "
   ]
  },
  {
   "cell_type": "code",
   "execution_count": null,
   "metadata": {},
   "outputs": [],
   "source": []
  }
 ],
 "metadata": {
  "kernelspec": {
   "display_name": "Python 3",
   "language": "python",
   "name": "python3"
  },
  "language_info": {
   "codemirror_mode": {
    "name": "ipython",
    "version": 3
   },
   "file_extension": ".py",
   "mimetype": "text/x-python",
   "name": "python",
   "nbconvert_exporter": "python",
   "pygments_lexer": "ipython3",
   "version": "3.7.3"
  }
 },
 "nbformat": 4,
 "nbformat_minor": 4
}
