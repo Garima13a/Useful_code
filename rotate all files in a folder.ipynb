{
 "cells": [
  {
   "cell_type": "code",
   "execution_count": 3,
   "metadata": {},
   "outputs": [],
   "source": [
    "from scipy import ndimage, misc\n",
    "import numpy as np\n",
    "import os\n",
    "import cv2\n",
    "import matplotlib.pyplot as plt\n",
    "import imageio\n"
   ]
  },
  {
   "cell_type": "code",
   "execution_count": 9,
   "metadata": {},
   "outputs": [],
   "source": [
    "\n",
    "    outPath = \"./frame\"\n",
    "    path = \"./frame\"\n",
    "\n",
    "    # iterate through the names of contents of the folder\n",
    "    for image_path in os.listdir(path):\n",
    "\n",
    "        # create the full input path and read the file\n",
    "        input_path = os.path.join(path, image_path)\n",
    "        image_to_rotate = imageio.imread(input_path)\n",
    "\n",
    "        # rotate the image\n",
    "        rotated = ndimage.rotate(image_to_rotate, 270)\n",
    "\n",
    "        # create full output path, 'example.jpg' \n",
    "        # becomes 'rotate_example.jpg', save the file to disk\n",
    "        fullpath = os.path.join(outPath, image_path)\n",
    "        imageio.imsave(fullpath, rotated)"
   ]
  },
  {
   "cell_type": "code",
   "execution_count": null,
   "metadata": {},
   "outputs": [],
   "source": [
    "!"
   ]
  }
 ],
 "metadata": {
  "kernelspec": {
   "display_name": "Python 3.7.3 64-bit ('base': conda)",
   "language": "python",
   "name": "python37364bitbaseconda2a697f1f979a409b84719c2420c425fc"
  },
  "language_info": {
   "codemirror_mode": {
    "name": "ipython",
    "version": 3
   },
   "file_extension": ".py",
   "mimetype": "text/x-python",
   "name": "python",
   "nbconvert_exporter": "python",
   "pygments_lexer": "ipython3",
   "version": "3.7.3"
  }
 },
 "nbformat": 4,
 "nbformat_minor": 4
}
