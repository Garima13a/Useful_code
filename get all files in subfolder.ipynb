{
 "cells": [
  {
   "cell_type": "code",
   "execution_count": 2,
   "metadata": {},
   "outputs": [],
   "source": [
    "import os\n",
    "all_files = os.listdir('/home/garima/Desktop/clutter/Beer_images/')\n"
   ]
  },
  {
   "cell_type": "code",
   "execution_count": 8,
   "metadata": {},
   "outputs": [
    {
     "data": {
      "text/plain": [
       "(5, ['database', 'Distance', 'Distanc', 'query', 'distances'])"
      ]
     },
     "execution_count": 8,
     "metadata": {},
     "output_type": "execute_result"
    }
   ],
   "source": [
    "len(all_files),all_files"
   ]
  },
  {
   "cell_type": "code",
   "execution_count": 6,
   "metadata": {},
   "outputs": [
    {
     "name": "stdout",
     "output_type": "stream",
     "text": [
      "155 10\n"
     ]
    }
   ],
   "source": [
    "import os\n",
    "directory = \"/home/garima/Desktop/clutter/Beer_images/\"\n",
    "arr = []\n",
    "direc = []\n",
    "for root, subdirectories, files in os.walk(directory):\n",
    "    for subdirectory in subdirectories:\n",
    "        direc.append(os.path.join(root, subdirectory))\n",
    "    for file in files:\n",
    "#         if file.endswith(\".xml\"):\n",
    "            arr.append(os.path.join(root, file))\n",
    "\n",
    "print(len(arr), len(direc))"
   ]
  },
  {
   "cell_type": "code",
   "execution_count": 7,
   "metadata": {},
   "outputs": [
    {
     "data": {
      "text/plain": [
       "['/home/garima/Desktop/clutter/Beer_images/database/Hillcrest Brewing Company.png',\n",
       " '/home/garima/Desktop/clutter/Beer_images/database/Heritage Brewing Company.jpg',\n",
       " '/home/garima/Desktop/clutter/Beer_images/database/Hexagon Brewing Company.png',\n",
       " '/home/garima/Desktop/clutter/Beer_images/database/High Point Brewing.jpg',\n",
       " '/home/garima/Desktop/clutter/Beer_images/database/Hair of the Dog Brewing Company .png',\n",
       " '/home/garima/Desktop/clutter/Beer_images/database/Hightower Brewing Company.jpeg',\n",
       " '/home/garima/Desktop/clutter/Beer_images/database/Hoboken Brewing Company.jpg',\n",
       " '/home/garima/Desktop/clutter/Beer_images/database/HiHO Brewing Co.[.png',\n",
       " '/home/garima/Desktop/clutter/Beer_images/database/Harmon Brewing Co..jpg',\n",
       " '/home/garima/Desktop/clutter/Beer_images/database/hailstorm_brewing.png',\n",
       " '/home/garima/Desktop/clutter/Beer_images/database/Hogshead Brewery.jpg',\n",
       " '/home/garima/Desktop/clutter/Beer_images/database/Hayes Public House.jpeg',\n",
       " '/home/garima/Desktop/clutter/Beer_images/database/Haines_Brewing_Company.jpg',\n",
       " '/home/garima/Desktop/clutter/Beer_images/database/Harry Stuff Brewing.png',\n",
       " '/home/garima/Desktop/clutter/Beer_images/database/hammer & forge brewing company.png',\n",
       " '/home/garima/Desktop/clutter/Beer_images/database/Hidden Sands Brewery Company logo.png',\n",
       " '/home/garima/Desktop/clutter/Beer_images/database/Heavy Seas Beer.jpg',\n",
       " '/home/garima/Desktop/clutter/Beer_images/database/Happy Basset Brewing Company.png',\n",
       " '/home/garima/Desktop/clutter/Beer_images/database/Harpoon Brewery .png',\n",
       " '/home/garima/Desktop/clutter/Beer_images/database/Hay Camp Brewing Co.png',\n",
       " '/home/garima/Desktop/clutter/Beer_images/database/Heavy Reel Brewing .jpg',\n",
       " '/home/garima/Desktop/clutter/Beer_images/database/Hollow Pointe Brewery.jpg',\n",
       " '/home/garima/Desktop/clutter/Beer_images/database/haint_blue_brewing_company.png',\n",
       " '/home/garima/Desktop/clutter/Beer_images/database/Heaven & Ale Brewing Company.png',\n",
       " '/home/garima/Desktop/clutter/Beer_images/database/Hofbräuhaus.png',\n",
       " '/home/garima/Desktop/clutter/Beer_images/database/Highlands Hollow Brewhouse.jpg',\n",
       " '/home/garima/Desktop/clutter/Beer_images/database/Hackensack_Brewing.jpg',\n",
       " '/home/garima/Desktop/clutter/Beer_images/database/Haymarket Pub & Brewery.jpg',\n",
       " '/home/garima/Desktop/clutter/Beer_images/database/Hog Molly Brewing.jpg',\n",
       " '/home/garima/Desktop/clutter/Beer_images/database/Half Day Brewing Company.png',\n",
       " '/home/garima/Desktop/clutter/Beer_images/database/Hix Farm Brewery.png',\n",
       " '/home/garima/Desktop/clutter/Beer_images/database/Happy Trails Brewing .jpeg',\n",
       " '/home/garima/Desktop/clutter/Beer_images/database/Hill Farmstead Brewery.png',\n",
       " \"/home/garima/Desktop/clutter/Beer_images/database/Hap & Harry's.png\",\n",
       " '/home/garima/Desktop/clutter/Beer_images/database/Harvest Moon Brewery.jpg',\n",
       " '/home/garima/Desktop/clutter/Beer_images/database/Hinterland Brewery.jpg',\n",
       " '/home/garima/Desktop/clutter/Beer_images/database/hairy_cow_brewing_company.jpeg',\n",
       " '/home/garima/Desktop/clutter/Beer_images/Distance/database/corona_extra.jpg',\n",
       " '/home/garima/Desktop/clutter/Beer_images/Distance/database/storm.png',\n",
       " '/home/garima/Desktop/clutter/Beer_images/Distance/database/blue_moon.jpeg',\n",
       " '/home/garima/Desktop/clutter/Beer_images/Distance/database/bira_blonde.png',\n",
       " '/home/garima/Desktop/clutter/Beer_images/Distance/database/ballast.jpeg',\n",
       " '/home/garima/Desktop/clutter/Beer_images/Distance/database/bud_light_platinum.jpg',\n",
       " '/home/garima/Desktop/clutter/Beer_images/Distance/database/fat_tire.jpg',\n",
       " '/home/garima/Desktop/clutter/Beer_images/Distance/database/miller_lite.png',\n",
       " '/home/garima/Desktop/clutter/Beer_images/Distance/database/miller_lite2.png',\n",
       " '/home/garima/Desktop/clutter/Beer_images/Distance/database/becks.png',\n",
       " '/home/garima/Desktop/clutter/Beer_images/Distance/database/bira.png',\n",
       " '/home/garima/Desktop/clutter/Beer_images/Distance/database/michelob.png',\n",
       " '/home/garima/Desktop/clutter/Beer_images/Distance/database/kingfisher_strong.png',\n",
       " '/home/garima/Desktop/clutter/Beer_images/Distance/database/heineken.jpg',\n",
       " '/home/garima/Desktop/clutter/Beer_images/Distance/database/budweiser.jpg',\n",
       " '/home/garima/Desktop/clutter/Beer_images/Distance/database/busch.jpg',\n",
       " '/home/garima/Desktop/clutter/Beer_images/Distance/database/kingfisher.png',\n",
       " '/home/garima/Desktop/clutter/Beer_images/Distance/database/crafty_brewing_irish_red_ale.jpg',\n",
       " '/home/garima/Desktop/clutter/Beer_images/Distance/database/betsy.jpeg',\n",
       " '/home/garima/Desktop/clutter/Beer_images/Distance/database/white_ufo.jpg',\n",
       " '/home/garima/Desktop/clutter/Beer_images/Distance/query/ballast.png',\n",
       " '/home/garima/Desktop/clutter/Beer_images/Distance/query/storm.png',\n",
       " '/home/garima/Desktop/clutter/Beer_images/Distance/query/bira_blonde.png',\n",
       " '/home/garima/Desktop/clutter/Beer_images/Distance/query/crafty_brewing_irish_red_ale.png',\n",
       " '/home/garima/Desktop/clutter/Beer_images/Distance/query/white_ufo.png',\n",
       " '/home/garima/Desktop/clutter/Beer_images/Distance/query/blue_moon.png',\n",
       " '/home/garima/Desktop/clutter/Beer_images/Distance/query/miller_lite.png',\n",
       " '/home/garima/Desktop/clutter/Beer_images/Distance/query/busch.png',\n",
       " '/home/garima/Desktop/clutter/Beer_images/Distance/query/miller_lite2.png',\n",
       " '/home/garima/Desktop/clutter/Beer_images/Distance/query/becks.png',\n",
       " '/home/garima/Desktop/clutter/Beer_images/Distance/query/bira.png',\n",
       " '/home/garima/Desktop/clutter/Beer_images/Distance/query/michelob.png',\n",
       " '/home/garima/Desktop/clutter/Beer_images/Distance/query/kingfisher_strong.png',\n",
       " '/home/garima/Desktop/clutter/Beer_images/Distance/query/betsy.png',\n",
       " '/home/garima/Desktop/clutter/Beer_images/Distance/query/heineken.png',\n",
       " '/home/garima/Desktop/clutter/Beer_images/Distance/query/fat_tire.png',\n",
       " '/home/garima/Desktop/clutter/Beer_images/Distance/query/budweiser.png',\n",
       " '/home/garima/Desktop/clutter/Beer_images/Distance/query/bud_light_platinum.png',\n",
       " '/home/garima/Desktop/clutter/Beer_images/Distance/query/kingfisher.png',\n",
       " '/home/garima/Desktop/clutter/Beer_images/Distance/query/corona_extra.png',\n",
       " '/home/garima/Desktop/clutter/Beer_images/Distance/lookup/distance_sift.pkl',\n",
       " '/home/garima/Desktop/clutter/Beer_images/query/hailstorm_brewing.jpg',\n",
       " '/home/garima/Desktop/clutter/Beer_images/query/Heavy Seas Beer.png',\n",
       " '/home/garima/Desktop/clutter/Beer_images/query/High Point Brewing.jpg',\n",
       " '/home/garima/Desktop/clutter/Beer_images/query/Heritage Brewing Company.jpeg',\n",
       " '/home/garima/Desktop/clutter/Beer_images/query/HairoftheDogBrewingCompany.jpg',\n",
       " '/home/garima/Desktop/clutter/Beer_images/query/Harry Stuff Brewing.jpg',\n",
       " '/home/garima/Desktop/clutter/Beer_images/query/Hoboken Brewing Company.jpg',\n",
       " '/home/garima/Desktop/clutter/Beer_images/query/Hightower Brewing Company.jpg',\n",
       " '/home/garima/Desktop/clutter/Beer_images/query/Harmon Brewing Co..jpg',\n",
       " '/home/garima/Desktop/clutter/Beer_images/query/Hogshead Brewery.jpg',\n",
       " '/home/garima/Desktop/clutter/Beer_images/query/Hill Farmstead Brewery.jpg',\n",
       " '/home/garima/Desktop/clutter/Beer_images/query/Haines_Brewing_Company.jpg',\n",
       " '/home/garima/Desktop/clutter/Beer_images/query/Hayes Public House.jpg',\n",
       " '/home/garima/Desktop/clutter/Beer_images/query/Happy Trails Brewing .png',\n",
       " '/home/garima/Desktop/clutter/Beer_images/query/Harpoon Brewery .jpg',\n",
       " '/home/garima/Desktop/clutter/Beer_images/query/hammer & forge brewing company.jpg',\n",
       " '/home/garima/Desktop/clutter/Beer_images/query/Happy Basset Brewing Company.jpg',\n",
       " '/home/garima/Desktop/clutter/Beer_images/query/Heavy Reel Brewing .jpg',\n",
       " '/home/garima/Desktop/clutter/Beer_images/query/Hollow Pointe Brewery.jpg',\n",
       " '/home/garima/Desktop/clutter/Beer_images/query/hairy_cow_brewing_company.jpg',\n",
       " '/home/garima/Desktop/clutter/Beer_images/query/Heaven & Ale Brewing Company.png',\n",
       " '/home/garima/Desktop/clutter/Beer_images/query/Hix Farm Brewery.jpg',\n",
       " '/home/garima/Desktop/clutter/Beer_images/query/HiHO Brewing Co.[.jpg',\n",
       " '/home/garima/Desktop/clutter/Beer_images/query/Highlands Hollow Brewhouse.jpg',\n",
       " '/home/garima/Desktop/clutter/Beer_images/query/Hackensack_Brewing.jpg',\n",
       " '/home/garima/Desktop/clutter/Beer_images/query/Haymarket Pub & Brewery.jpg',\n",
       " '/home/garima/Desktop/clutter/Beer_images/query/haint_blue_brewing_company.jpg',\n",
       " '/home/garima/Desktop/clutter/Beer_images/query/Hog Molly Brewing.jpg',\n",
       " '/home/garima/Desktop/clutter/Beer_images/query/Hillcrest Brewing Company.jpg',\n",
       " '/home/garima/Desktop/clutter/Beer_images/query/Hexagon Brewing Company.jpg',\n",
       " '/home/garima/Desktop/clutter/Beer_images/query/Half Day Brewing Company.png',\n",
       " '/home/garima/Desktop/clutter/Beer_images/query/Hofbräuhaus.jpeg',\n",
       " \"/home/garima/Desktop/clutter/Beer_images/query/Hap & Harry's.png\",\n",
       " '/home/garima/Desktop/clutter/Beer_images/query/Hidden Sands Brewery Company logo.jpg',\n",
       " '/home/garima/Desktop/clutter/Beer_images/query/Hay Camp Brewing Co.jpg',\n",
       " '/home/garima/Desktop/clutter/Beer_images/query/Harvest Moon Brewery.jpg',\n",
       " '/home/garima/Desktop/clutter/Beer_images/query/Hinterland Brewery.jpg',\n",
       " '/home/garima/Desktop/clutter/Beer_images/distances/database/corona_extra.jpg',\n",
       " '/home/garima/Desktop/clutter/Beer_images/distances/database/storm.png',\n",
       " '/home/garima/Desktop/clutter/Beer_images/distances/database/blue_moon.jpeg',\n",
       " '/home/garima/Desktop/clutter/Beer_images/distances/database/bira_blonde.png',\n",
       " '/home/garima/Desktop/clutter/Beer_images/distances/database/ballast.jpeg',\n",
       " '/home/garima/Desktop/clutter/Beer_images/distances/database/bud_light_platinum.jpg',\n",
       " '/home/garima/Desktop/clutter/Beer_images/distances/database/fat_tire.jpg',\n",
       " '/home/garima/Desktop/clutter/Beer_images/distances/database/miller_lite.png',\n",
       " '/home/garima/Desktop/clutter/Beer_images/distances/database/miller_lite2.png',\n",
       " '/home/garima/Desktop/clutter/Beer_images/distances/database/becks.png',\n",
       " '/home/garima/Desktop/clutter/Beer_images/distances/database/bira.png',\n",
       " '/home/garima/Desktop/clutter/Beer_images/distances/database/michelob.png',\n",
       " '/home/garima/Desktop/clutter/Beer_images/distances/database/kingfisher_strong.png',\n",
       " '/home/garima/Desktop/clutter/Beer_images/distances/database/heineken.jpg',\n",
       " '/home/garima/Desktop/clutter/Beer_images/distances/database/budweiser.jpg',\n",
       " '/home/garima/Desktop/clutter/Beer_images/distances/database/busch.jpg',\n",
       " '/home/garima/Desktop/clutter/Beer_images/distances/database/kingfisher.png',\n",
       " '/home/garima/Desktop/clutter/Beer_images/distances/database/crafty_brewing_irish_red_ale.jpg',\n",
       " '/home/garima/Desktop/clutter/Beer_images/distances/database/betsy.jpeg',\n",
       " '/home/garima/Desktop/clutter/Beer_images/distances/database/white_ufo.jpg',\n",
       " '/home/garima/Desktop/clutter/Beer_images/distances/query/ballast.png',\n",
       " '/home/garima/Desktop/clutter/Beer_images/distances/query/storm.png',\n",
       " '/home/garima/Desktop/clutter/Beer_images/distances/query/bira_blonde.png',\n",
       " '/home/garima/Desktop/clutter/Beer_images/distances/query/crafty_brewing_irish_red_ale.png',\n",
       " '/home/garima/Desktop/clutter/Beer_images/distances/query/white_ufo.png',\n",
       " '/home/garima/Desktop/clutter/Beer_images/distances/query/blue_moon.png',\n",
       " '/home/garima/Desktop/clutter/Beer_images/distances/query/miller_lite.png',\n",
       " '/home/garima/Desktop/clutter/Beer_images/distances/query/busch.png',\n",
       " '/home/garima/Desktop/clutter/Beer_images/distances/query/miller_lite2.png',\n",
       " '/home/garima/Desktop/clutter/Beer_images/distances/query/becks.png',\n",
       " '/home/garima/Desktop/clutter/Beer_images/distances/query/bira.png',\n",
       " '/home/garima/Desktop/clutter/Beer_images/distances/query/michelob.png',\n",
       " '/home/garima/Desktop/clutter/Beer_images/distances/query/kingfisher_strong.png',\n",
       " '/home/garima/Desktop/clutter/Beer_images/distances/query/betsy.png',\n",
       " '/home/garima/Desktop/clutter/Beer_images/distances/query/heineken.png',\n",
       " '/home/garima/Desktop/clutter/Beer_images/distances/query/fat_tire.png',\n",
       " '/home/garima/Desktop/clutter/Beer_images/distances/query/budweiser.png',\n",
       " '/home/garima/Desktop/clutter/Beer_images/distances/query/bud_light_platinum.png',\n",
       " '/home/garima/Desktop/clutter/Beer_images/distances/query/kingfisher.png',\n",
       " '/home/garima/Desktop/clutter/Beer_images/distances/query/corona_extra.png']"
      ]
     },
     "execution_count": 7,
     "metadata": {},
     "output_type": "execute_result"
    }
   ],
   "source": [
    "arr"
   ]
  },
  {
   "cell_type": "code",
   "execution_count": null,
   "metadata": {},
   "outputs": [],
   "source": []
  }
 ],
 "metadata": {
  "kernelspec": {
   "display_name": "Python 3",
   "language": "python",
   "name": "python3"
  },
  "language_info": {
   "codemirror_mode": {
    "name": "ipython",
    "version": 3
   },
   "file_extension": ".py",
   "mimetype": "text/x-python",
   "name": "python",
   "nbconvert_exporter": "python",
   "pygments_lexer": "ipython3",
   "version": "3.7.3"
  }
 },
 "nbformat": 4,
 "nbformat_minor": 4
}
